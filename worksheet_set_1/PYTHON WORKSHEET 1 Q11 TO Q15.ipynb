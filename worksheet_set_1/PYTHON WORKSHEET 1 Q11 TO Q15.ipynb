{
 "cells": [
  {
   "cell_type": "markdown",
   "id": "eb138d26",
   "metadata": {},
   "source": [
    "# Q11. Factorial of a number"
   ]
  },
  {
   "cell_type": "code",
   "execution_count": 21,
   "id": "8e370f1f",
   "metadata": {},
   "outputs": [
    {
     "name": "stdout",
     "output_type": "stream",
     "text": [
      "Enter the number: 7\n",
      "Factorial of given number is: 5040\n"
     ]
    }
   ],
   "source": [
    "num = int(input('Enter the number: '))\n",
    "fac=1\n",
    "if num == 0:\n",
    "    print('Factorial of 0 is 1')\n",
    "elif num < 0:\n",
    "    print('Factorial of negative number does not exist')\n",
    "else:\n",
    "    while num>1:\n",
    "        fac *=num\n",
    "        num -= 1\n",
    "print('Factorial of given number is:',fac)"
   ]
  },
  {
   "cell_type": "markdown",
   "id": "5d91b04b",
   "metadata": {},
   "source": [
    "# Q12 whether a number is prime or composite."
   ]
  },
  {
   "cell_type": "code",
   "execution_count": 41,
   "id": "2366517c",
   "metadata": {},
   "outputs": [
    {
     "name": "stdout",
     "output_type": "stream",
     "text": [
      "Enter the number: 5\n",
      "5 is a prime number\n"
     ]
    }
   ],
   "source": [
    "n = int(input('Enter the number: '))\n",
    "is_prime = True\n",
    "if n == 0:\n",
    "    print(n, 'is not a prime number')\n",
    "elif n>1:\n",
    "    for i in range(2,n):\n",
    "        if n%i==0:\n",
    "            is_prime = False\n",
    "            break\n",
    "    if is_prime:\n",
    "        print(n,'is a prime number')\n",
    "    else:\n",
    "        print(n,'is a composite number')"
   ]
  },
  {
   "cell_type": "markdown",
   "id": "3e6350d7",
   "metadata": {},
   "source": [
    "# Q13 whether a given string is palindrome or not."
   ]
  },
  {
   "cell_type": "code",
   "execution_count": 67,
   "id": "fd0f5178",
   "metadata": {},
   "outputs": [
    {
     "name": "stdout",
     "output_type": "stream",
     "text": [
      "Enter a word: WOw\n",
      "wow is palindrome.\n"
     ]
    }
   ],
   "source": [
    "text = input('Enter a word: ').lower()\n",
    "reverse = text[::-1]\n",
    "if text == reverse:\n",
    "    print(text,'is palindrome.')\n",
    "else:\n",
    "    print(text,'is not palindrome.')"
   ]
  },
  {
   "cell_type": "markdown",
   "id": "772a4dfb",
   "metadata": {},
   "source": [
    "# Q14 third side of right-angled triangle from two given sides."
   ]
  },
  {
   "cell_type": "code",
   "execution_count": 70,
   "id": "db72bbab",
   "metadata": {},
   "outputs": [
    {
     "name": "stdout",
     "output_type": "stream",
     "text": [
      "Enter the base length: 3\n",
      "Enter the perpendicular length: 4\n"
     ]
    },
    {
     "data": {
      "text/plain": [
       "5.0"
      ]
     },
     "execution_count": 70,
     "metadata": {},
     "output_type": "execute_result"
    }
   ],
   "source": [
    "a = int(input('Enter the base length: '))\n",
    "b = int(input('Enter the perpendicular length: '))\n",
    "def hypotnues(x,y):\n",
    "    return (((x**2) + (y**2))**0.5)\n",
    "hypotnues(a,b)"
   ]
  },
  {
   "cell_type": "markdown",
   "id": "f9e327a2",
   "metadata": {},
   "source": [
    "# Q15 frequency of each of the characters present in a given string."
   ]
  },
  {
   "cell_type": "code",
   "execution_count": 96,
   "id": "bf1767ab",
   "metadata": {},
   "outputs": [
    {
     "name": "stdout",
     "output_type": "stream",
     "text": [
      "Enter a word: heelllooo\n",
      "Count of all characters in heelllooo is :\n",
      " {'h': 1, 'e': 2, 'l': 3, 'o': 3}\n"
     ]
    }
   ],
   "source": [
    "word = input('Enter a word: ')\n",
    "\n",
    "\n",
    "freq = {}\n",
    "\n",
    "\n",
    "for i in word:\n",
    "    if i in freq:\n",
    "        freq[i] += 1\n",
    "    else:\n",
    "        freq[i] = 1\n",
    "    \n",
    "print(f'Count of all characters in {word} is :\\n ' + str(freq))"
   ]
  },
  {
   "cell_type": "code",
   "execution_count": null,
   "id": "4a9a06c2",
   "metadata": {},
   "outputs": [],
   "source": []
  },
  {
   "cell_type": "code",
   "execution_count": null,
   "id": "badccc58",
   "metadata": {},
   "outputs": [],
   "source": []
  }
 ],
 "metadata": {
  "kernelspec": {
   "display_name": "Python 3 (ipykernel)",
   "language": "python",
   "name": "python3"
  },
  "language_info": {
   "codemirror_mode": {
    "name": "ipython",
    "version": 3
   },
   "file_extension": ".py",
   "mimetype": "text/x-python",
   "name": "python",
   "nbconvert_exporter": "python",
   "pygments_lexer": "ipython3",
   "version": "3.9.13"
  }
 },
 "nbformat": 4,
 "nbformat_minor": 5
}
